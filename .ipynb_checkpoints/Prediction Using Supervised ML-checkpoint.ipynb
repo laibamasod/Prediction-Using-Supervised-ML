{
 "cells": [
  {
   "cell_type": "markdown",
   "id": "84484550",
   "metadata": {},
   "source": [
    "##### TASK 1 - LEVEL BEGINNER\n",
    "##### Predicting the Percentage of Students based on Number of Study Hours Using Linear Regression\n",
    "##### GRIPSEPTEMBER23 \n",
    "##### Laiba Masood \n"
   ]
  },
  {
   "cell_type": "code",
   "execution_count": 48,
   "id": "9590dee7",
   "metadata": {},
   "outputs": [],
   "source": [
    "###### Importing Required Libraries\n",
    "\n",
    "\n",
    "import pandas as pd\n",
    "import matplotlib.pyplot as plt\n",
    "from sklearn.model_selection import train_test_split\n",
    "from sklearn.linear_model import LinearRegression\n",
    "from sklearn.metrics import mean_absolute_error, mean_squared_error, r2_score"
   ]
  },
  {
   "cell_type": "code",
   "execution_count": 53,
   "id": "dd5f85ed",
   "metadata": {},
   "outputs": [
    {
     "name": "stdout",
     "output_type": "stream",
     "text": [
      "    Hours  Scores\n",
      "0     2.5      21\n",
      "1     5.1      47\n",
      "2     3.2      27\n",
      "3     8.5      75\n",
      "4     3.5      30\n",
      "5     1.5      20\n",
      "6     9.2      88\n",
      "7     5.5      60\n",
      "8     8.3      81\n",
      "9     2.7      25\n",
      "10    7.7      85\n",
      "11    5.9      62\n",
      "12    4.5      41\n",
      "13    3.3      42\n",
      "14    1.1      17\n",
      "15    8.9      95\n",
      "16    2.5      30\n",
      "17    1.9      24\n",
      "18    6.1      67\n",
      "19    7.4      69\n",
      "20    2.7      30\n",
      "21    4.8      54\n",
      "22    3.8      35\n",
      "23    6.9      76\n",
      "24    7.8      86\n"
     ]
    }
   ],
   "source": [
    "url = 'https://raw.githubusercontent.com/AdiPersonalWorks/Random/master/student_scores%20-%20student_scores.csv'\n",
    "df = pd.read_csv(url,header=0)\n",
    "print(df)\n"
   ]
  },
  {
   "cell_type": "code",
   "execution_count": 52,
   "id": "31d1e800",
   "metadata": {},
   "outputs": [
    {
     "data": {
      "image/png": "[encoded data removed]",
      "text/plain": [
       "<Figure size 800x600 with 1 Axes>"
      ]
     },
     "metadata": {},
     "output_type": "display_data"
    }
   ],
   "source": [
    "# Create a scatter plot\n",
    "plt.figure(figsize=(8, 6))\n",
    "plt.scatter(X, Y, color='blue', marker='o', label='Data Entries')\n",
    "plt.title('Scatter Plot of Study Hours vs. Scores')\n",
    "plt.xlabel('Study Hours')\n",
    "plt.ylabel('Scores')\n",
    "plt.legend()\n",
    "plt.grid(True)\n",
    "\n",
    "# Show the plot\n",
    "plt.show()"
   ]
  },
  {
   "cell_type": "code",
   "execution_count": 45,
   "id": "ad37d715",
   "metadata": {},
   "outputs": [
    {
     "name": "stdout",
     "output_type": "stream",
     "text": [
      "   Actual Scores  Predicted Scores\n",
      "0             81                83\n",
      "1             30                27\n",
      "2             21                27\n",
      "3             76                69\n",
      "4             62                59\n",
      "\n",
      "Predicted Score for 9.25 hours of study: 92\n",
      "\n",
      "Model Evaluation:\n",
      "Mean Aboslute Error: 4.0\n"
     ]
    },
    {
     "name": "stderr",
     "output_type": "stream",
     "text": [
      "C:\\Users\\PC\\anaconda3\\lib\\site-packages\\sklearn\\base.py:420: UserWarning: X does not have valid feature names, but LinearRegression was fitted with feature names\n",
      "  warnings.warn(\n"
     ]
    }
   ],
   "source": [
    "X = df[['Hours']]  # Features (study hours)\n",
    "Y = df['Scores']  # Target variable\n",
    "\n",
    "X_train, X_test, Y_train, Y_test = train_test_split(X, Y, test_size=0.2, random_state=42)\n",
    "\n",
    "Y_test = Y_test.reset_index(drop=True)\n",
    "\n",
    "# Create a linear regression model\n",
    "model = LinearRegression()\n",
    "\n",
    "# Train the model\n",
    "model.fit(X_train, Y_train)\n",
    "\n",
    "# Make Predictions\n",
    "Y_pred = model.predict(X_test)\n",
    "\n",
    "\n",
    "#Comparing Predicted vs. Actual \n",
    "dframe=pd.DataFrame({'Actual Scores': Y_test, 'Predicted Scores': Y_pred.astype(int)}) \n",
    "print(dframe)\n",
    "\n",
    "#Score for 9.25 Hours of Study\n",
    "hours_studied = 9.25\n",
    "predicted_score = model.predict([[hours_studied]])\n",
    "\n",
    "print(f\"\\nPredicted Score for {hours_studied} hours of study: {predicted_score[0].astype(int)}\")\n",
    "\n",
    "mae = mean_absolute_error(Y_test, Y_pred)\n",
    "mae_rounded = np.round(mae)\n",
    "print(f'\\nModel Evaluation:\\nMean Aboslute Error: {mae_rounded}')\n",
    "#print(Y_test)\n",
    "#print(Y_pred)\n",
    "\n"
   ]
  },
  {
   "cell_type": "code",
   "execution_count": null,
   "id": "5c6e2d16",
   "metadata": {},
   "outputs": [],
   "source": []
  }
 ],
 "metadata": {
  "kernelspec": {
   "display_name": "Python 3 (ipykernel)",
   "language": "python",
   "name": "python3"
  },
  "language_info": {
   "codemirror_mode": {
    "name": "ipython",
    "version": 3
   },
   "file_extension": ".py",
   "mimetype": "text/x-python",
   "name": "python",
   "nbconvert_exporter": "python",
   "pygments_lexer": "ipython3",
   "version": "3.10.9"
  }
 },
 "nbformat": 4,
 "nbformat_minor": 5
}
